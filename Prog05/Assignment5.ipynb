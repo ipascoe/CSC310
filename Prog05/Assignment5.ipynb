{
 "cells": [
  {
   "cell_type": "markdown",
   "metadata": {},
   "source": [
    "# Assignment 5\n",
    "###### By Ian, Eric, Johnny\n",
    "\n",
    "This assignment is meant to test the confidence intervals of different decision trees. Here I test 5 trees, starting with high depth restriction and 'loosening' the restriction by 1 level each time. The output shows the confidence interval corresponding to each tree."
   ]
  },
  {
   "cell_type": "code",
   "execution_count": 1,
   "metadata": {},
   "outputs": [
    {
     "name": "stdout",
     "output_type": "stream",
     "text": [
      "Caesarian\n",
      "=====================================================================\n",
      "Confidence interval max_depth = 2: (0.43593750000000003, 0.875)\n",
      "Confidence interval max_depth = 3: (0.375, 0.9375)\n",
      "Confidence interval max_depth = 4: (0.4375, 0.9375)\n",
      "Confidence interval max_depth = 5: (0.49843750000000003, 0.9375)\n",
      "Confidence interval max_depth = None: (0.5625, 1.0)\n"
     ]
    }
   ],
   "source": [
    "# Import necessary modules\n",
    "import pandas as pd\n",
    "from sklearn import tree\n",
    "from bootstrap import bootstrap\n",
    "\n",
    "# Was getting several 'FutureWarning's so I just went ahead and silenced them \n",
    "import warnings\n",
    "warnings.simplefilter(action='ignore', category=FutureWarning)\n",
    "\n",
    "# Classify the trees\n",
    "t1 = tree.DecisionTreeClassifier(criterion='entropy', max_depth=2)\n",
    "t2 = tree.DecisionTreeClassifier(criterion='entropy', max_depth=3)\n",
    "t3 = tree.DecisionTreeClassifier(criterion='entropy', max_depth=4)\n",
    "t4 = tree.DecisionTreeClassifier(criterion='entropy', max_depth=5)\n",
    "t5 = tree.DecisionTreeClassifier(criterion='entropy', max_depth=None)\n",
    "\n",
    "\n",
    "print(\"Caesarian\\n=====================================================================\")\n",
    "\n",
    "# Read csv data to dataframe\n",
    "df = pd.read_csv(\"caesarian.csv\")\n",
    "\n",
    "# Show the confidence intervals\n",
    "print(\"Confidence interval max_depth = 2: {}\".format(bootstrap(t1,df,'Caesarian')))\n",
    "print(\"Confidence interval max_depth = 3: {}\".format(bootstrap(t2,df,'Caesarian')))\n",
    "print(\"Confidence interval max_depth = 4: {}\".format(bootstrap(t3,df,'Caesarian')))\n",
    "print(\"Confidence interval max_depth = 5: {}\".format(bootstrap(t4,df,'Caesarian')))\n",
    "print(\"Confidence interval max_depth = None: {}\".format(bootstrap(t5,df,'Caesarian')))"
   ]
  },
  {
   "cell_type": "markdown",
   "metadata": {},
   "source": [
    "## Report\n",
    "Above we see that the best tree provides clearly the best confidence interval, being between above 56% to 100% accuracy. This means that no matter what the accuracy of the model is most likely correct (since >50% gives positive odds). As the model is restricted, however, we can see the interval slip below 50% which would result in prediction to inevetably be wrong on some occasions."
   ]
  },
  {
   "cell_type": "markdown",
   "metadata": {},
   "source": [
    "## Team Assessment\n",
    "Overall the team worked well, helping eachother with issues they were having. Our body of work is all different because we worked on separate machines, but there was good communication between everyone in helping us all get a final product. Each teammate did equal amounts of work and deserves equal credit."
   ]
  },
  {
   "cell_type": "code",
   "execution_count": null,
   "metadata": {},
   "outputs": [],
   "source": []
  }
 ],
 "metadata": {
  "kernelspec": {
   "display_name": "Python 3",
   "language": "python",
   "name": "python3"
  },
  "language_info": {
   "codemirror_mode": {
    "name": "ipython",
    "version": 3
   },
   "file_extension": ".py",
   "mimetype": "text/x-python",
   "name": "python",
   "nbconvert_exporter": "python",
   "pygments_lexer": "ipython3",
   "version": "3.7.1"
  }
 },
 "nbformat": 4,
 "nbformat_minor": 2
}
