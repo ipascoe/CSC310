{
 "cells": [
  {
   "cell_type": "markdown",
   "metadata": {},
   "source": [
    "# Assignment 6: ANN (MLP)\n",
    "###### by Jeffrey Drummond, Milucy, Ian Pascoe"
   ]
  },
  {
   "cell_type": "code",
   "execution_count": 7,
   "metadata": {},
   "outputs": [],
   "source": [
    "import pandas as pd\n",
    "from sklearn.neural_network import MLPClassifier\n",
    "from sklearn.model_selection import cross_val_score\n",
    "from sklearn.metrics import accuracy_score\n",
    "from sklearn.model_selection import GridSearchCV\n",
    "from sklearn.neighbors import KNeighborsClassifier\n",
    "from sklearn.model_selection import train_test_split\n",
    "\n",
    "# Was getting several 'FutureWarning's so I just went ahead and silenced them \n",
    "import warnings\n",
    "warnings.simplefilter(action='ignore', category=FutureWarning)\n",
    "warnings.simplefilter(action='ignore', category=DeprecationWarning)"
   ]
  },
  {
   "cell_type": "code",
   "execution_count": 8,
   "metadata": {},
   "outputs": [],
   "source": [
    "df = pd.read_csv(\"CrohnD.csv\")\n",
    "df = df.drop(['ID'],axis=1)\n",
    "df = df.replace(\"c1\", 0)\n",
    "df = df.replace(\"c2\", 1)\n",
    "df = df.replace('F', 0)\n",
    "df = df.replace('M', 1)"
   ]
  },
  {
   "cell_type": "code",
   "execution_count": 9,
   "metadata": {},
   "outputs": [
    {
     "data": {
      "text/html": [
       "<div>\n",
       "<style scoped>\n",
       "    .dataframe tbody tr th:only-of-type {\n",
       "        vertical-align: middle;\n",
       "    }\n",
       "\n",
       "    .dataframe tbody tr th {\n",
       "        vertical-align: top;\n",
       "    }\n",
       "\n",
       "    .dataframe thead th {\n",
       "        text-align: right;\n",
       "    }\n",
       "</style>\n",
       "<table border=\"1\" class=\"dataframe\">\n",
       "  <thead>\n",
       "    <tr style=\"text-align: right;\">\n",
       "      <th></th>\n",
       "      <th>nrAdvE</th>\n",
       "      <th>BMI</th>\n",
       "      <th>height</th>\n",
       "      <th>country</th>\n",
       "      <th>sex</th>\n",
       "      <th>age</th>\n",
       "      <th>weight</th>\n",
       "      <th>treat</th>\n",
       "    </tr>\n",
       "  </thead>\n",
       "  <tbody>\n",
       "    <tr>\n",
       "      <th>0</th>\n",
       "      <td>4</td>\n",
       "      <td>25.22</td>\n",
       "      <td>163</td>\n",
       "      <td>0</td>\n",
       "      <td>0</td>\n",
       "      <td>47</td>\n",
       "      <td>67</td>\n",
       "      <td>placebo</td>\n",
       "    </tr>\n",
       "    <tr>\n",
       "      <th>1</th>\n",
       "      <td>4</td>\n",
       "      <td>23.80</td>\n",
       "      <td>164</td>\n",
       "      <td>0</td>\n",
       "      <td>0</td>\n",
       "      <td>53</td>\n",
       "      <td>64</td>\n",
       "      <td>d1</td>\n",
       "    </tr>\n",
       "    <tr>\n",
       "      <th>2</th>\n",
       "      <td>1</td>\n",
       "      <td>23.05</td>\n",
       "      <td>164</td>\n",
       "      <td>0</td>\n",
       "      <td>0</td>\n",
       "      <td>68</td>\n",
       "      <td>62</td>\n",
       "      <td>placebo</td>\n",
       "    </tr>\n",
       "    <tr>\n",
       "      <th>3</th>\n",
       "      <td>1</td>\n",
       "      <td>25.71</td>\n",
       "      <td>165</td>\n",
       "      <td>0</td>\n",
       "      <td>0</td>\n",
       "      <td>48</td>\n",
       "      <td>70</td>\n",
       "      <td>d2</td>\n",
       "    </tr>\n",
       "    <tr>\n",
       "      <th>4</th>\n",
       "      <td>2</td>\n",
       "      <td>25.95</td>\n",
       "      <td>170</td>\n",
       "      <td>0</td>\n",
       "      <td>0</td>\n",
       "      <td>67</td>\n",
       "      <td>75</td>\n",
       "      <td>placebo</td>\n",
       "    </tr>\n",
       "  </tbody>\n",
       "</table>\n",
       "</div>"
      ],
      "text/plain": [
       "   nrAdvE    BMI  height  country  sex  age  weight    treat\n",
       "0       4  25.22     163        0    0   47      67  placebo\n",
       "1       4  23.80     164        0    0   53      64       d1\n",
       "2       1  23.05     164        0    0   68      62  placebo\n",
       "3       1  25.71     165        0    0   48      70       d2\n",
       "4       2  25.95     170        0    0   67      75  placebo"
      ]
     },
     "execution_count": 9,
     "metadata": {},
     "output_type": "execute_result"
    }
   ],
   "source": [
    "df.head()"
   ]
  },
  {
   "cell_type": "markdown",
   "metadata": {},
   "source": [
    "## One Layer MLP"
   ]
  },
  {
   "cell_type": "code",
   "execution_count": 10,
   "metadata": {},
   "outputs": [
    {
     "name": "stdout",
     "output_type": "stream",
     "text": [
      "Grid Search: best parameters: {'hidden_layer_sizes': (18, 10)}\n",
      "Accuracy: 0.3418803418803419\n"
     ]
    }
   ],
   "source": [
    "# Get Data\n",
    "X  = df.drop(['treat'],axis=1)\n",
    "actual_y = df['treat']\n",
    "\n",
    "# neural network\n",
    "model = MLPClassifier(activation='relu', max_iter=10000)\n",
    "\n",
    "# grid search\n",
    "param_grid = {'hidden_layer_sizes': [ (10,10), (11,10), (12,10), (13,10), (14,10),\n",
    "                                    (14,10), (15,10), (16,10), (17,10), (18,10), \n",
    "                                    (19,10), (20,10) ]}\n",
    "\n",
    "grid = GridSearchCV(model, param_grid, cv=5)\n",
    "grid.fit(X, actual_y)\n",
    "print(\"Grid Search: best parameters: {}\".format(grid.best_params_))\n",
    "\n",
    "# evaluate the best model\n",
    "best_model = grid.best_estimator_\n",
    "predict_y = best_model.predict(X)\n",
    "print(\"Accuracy: {}\".format(accuracy_score(actual_y, predict_y)))\n",
    "\n",
    "# boostrapped confidence interval\n",
    "# print(\"Confidence interval best MLP: {}\".format(bootstrap(best_model,df,'treat')))"
   ]
  },
  {
   "cell_type": "markdown",
   "metadata": {},
   "source": [
    "## Two Layer MLP"
   ]
  },
  {
   "cell_type": "code",
   "execution_count": 11,
   "metadata": {},
   "outputs": [
    {
     "name": "stdout",
     "output_type": "stream",
     "text": [
      "Grid Search: best parameters: {'hidden_layer_sizes': (14,)}\n",
      "Accuracy: 0.7863247863247863\n"
     ]
    }
   ],
   "source": [
    "# neural network\n",
    "model = MLPClassifier(activation='logistic', max_iter=10000)\n",
    "\n",
    "# grid search\n",
    "param_grid = {'hidden_layer_sizes': [ (10,), (11,), (12,), (13,), (14,),\n",
    "                                    (14,), (15,), (16,), (17,), (18,), \n",
    "                                    (19,), (20,) ]}\n",
    "\n",
    "grid = GridSearchCV(model, param_grid, cv=5)\n",
    "grid.fit(X, actual_y)\n",
    "print(\"Grid Search: best parameters: {}\".format(grid.best_params_))\n",
    "\n",
    "# evaluate the best model\n",
    "best_model = grid.best_estimator_\n",
    "predict_y = best_model.predict(X)\n",
    "print(\"Accuracy: {}\".format(accuracy_score(actual_y, predict_y)))\n",
    "\n",
    "# boostrapped confidence interval\n",
    "# print(\"Confidence interval best MLP: {}\".format(bootstrap(best_model,df,'treat')))"
   ]
  },
  {
   "cell_type": "markdown",
   "metadata": {},
   "source": [
    "## KNN Comparison"
   ]
  },
  {
   "cell_type": "code",
   "execution_count": 21,
   "metadata": {},
   "outputs": [
    {
     "name": "stdout",
     "output_type": "stream",
     "text": [
      "Train-Test Accuracy: 0.2916666666666667\n",
      "Fold Accuracies: [0.5        0.375      0.25       0.41666667 0.52380952]\n",
      "XV Accuracy: 0.4130952380952381\n"
     ]
    }
   ],
   "source": [
    "# set up the model with k=3\n",
    "model = KNeighborsClassifier(n_neighbors=15)\n",
    "\n",
    "# do train-test\n",
    "train_X, test_X, train_y, test_y = train_test_split(X, actual_y, train_size=0.8, test_size=0.2)\n",
    "model.fit(train_X, train_y)\n",
    "predict_y = model.predict(test_X)\n",
    "print(\"Train-Test Accuracy: {}\".format(accuracy_score(test_y, predict_y)))\n",
    "\n",
    "# do the 5-fold cross validation\n",
    "scores = cross_val_score(model, X, actual_y, cv=5)\n",
    "print(\"Fold Accuracies: {}\".format(scores))\n",
    "print(\"XV Accuracy: {}\".format(scores.mean()))"
   ]
  },
  {
   "cell_type": "markdown",
   "metadata": {},
   "source": [
    "Here  have shown the difference in accuracies from a one to two layer ANN as compared to a 5 neighbor KNN. The accuracy scores are not very high but we can see how the two layer MLP was much more accurate than the other methods.\n",
    "\n",
    "## Team\n",
    "\n",
    "All members of the team worked hard to achieve these results as it was a very difficult assignment with not much assistance."
   ]
  },
  {
   "cell_type": "code",
   "execution_count": null,
   "metadata": {},
   "outputs": [],
   "source": []
  }
 ],
 "metadata": {
  "kernelspec": {
   "display_name": "Python 3",
   "language": "python",
   "name": "python3"
  },
  "language_info": {
   "codemirror_mode": {
    "name": "ipython",
    "version": 3
   },
   "file_extension": ".py",
   "mimetype": "text/x-python",
   "name": "python",
   "nbconvert_exporter": "python",
   "pygments_lexer": "ipython3",
   "version": "3.7.1"
  }
 },
 "nbformat": 4,
 "nbformat_minor": 2
}
