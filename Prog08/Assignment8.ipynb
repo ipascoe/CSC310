{
 "cells": [
  {
   "cell_type": "markdown",
   "metadata": {},
   "source": [
    "# Assignment 8\n",
    "###### by Ian Pascoe and Mikayla Gempp"
   ]
  },
  {
   "cell_type": "markdown",
   "metadata": {},
   "source": [
    "## Naive Bayes with Data Preprocessing\n",
    "Below we use the naive bayes method and 10 fold cross validation based on the text of the article."
   ]
  },
  {
   "cell_type": "code",
   "execution_count": null,
   "metadata": {},
   "outputs": [],
   "source": [
    "import pandas as pd\n",
    "from sklearn.model_selection import cross_val_score\n",
    "import warnings\n",
    "from re import sub\n",
    "from nltk.stem import PorterStemmer\n",
    "\n",
    "# ignore warnings\n",
    "warnings.filterwarnings('ignore')\n",
    "\n",
    "# setup\n",
    "stemmer = PorterStemmer()\n",
    "\n",
    "df = pd.read_csv(\"fake_or_real_news.csv\")\n",
    "df = df[:1000]\n",
    "\n",
    "text = pd.DataFrame(df, columns=['text'])\n",
    "label = pd.DataFrame(df, columns=['label'])\n",
    "\n",
    "# prepare data\n",
    "new_data = []\n",
    "for i in range(text.shape[0]):\n",
    "    new_data.append(sub(\"[^a-zA-Z]\", \" \", text.iloc[i,0]))\n",
    "\n",
    "lowercase_data = []\n",
    "for i in range(len(new_data)):\n",
    "    lowercase_data.append(new_data[i].lower())\n",
    "\n",
    "stemmed_data = []\n",
    "for i in range(len(lowercase_data)):\n",
    "    words = lowercase_data[i].split()\n",
    "    stemmed_words = []\n",
    "    for w in words:\n",
    "        stemmed_words.append(stemmer.stem(w))\n",
    "    stemmed_data.append(\" \".join(stemmed_words))\n",
    "\n",
    "# setup vector model\n",
    "from sklearn.feature_extraction.text import CountVectorizer\n",
    "vectorizer = CountVectorizer(analyzer = \"word\", binary = True, min_df=2, stop_words='english')\n",
    "docarray = vectorizer.fit_transform(stemmed_data).toarray()\n",
    "coords = vectorizer.get_feature_names()\n",
    "docterm = pandas.DataFrame(data=docarray,columns=coords)\n",
    "\n",
    "print(\"******** model and XV **********\")\n",
    "from sklearn.naive_bayes import MultinomialNB\n",
    "model = MultinomialNB()\n",
    "\n",
    "# do the 10-fold cross validation\n",
    "scores = cross_val_score(model, docarray, label, cv=10)\n",
    "print(\"Fold Accuracies: {}\".format(scores))\n",
    "print(\"XV Accuracy: {: 6.2f}%\".format(scores.mean()*100))"
   ]
  },
  {
   "cell_type": "markdown",
   "metadata": {},
   "source": [
    "## Naive Bayes without Data Preprocessing"
   ]
  },
  {
   "cell_type": "code",
   "execution_count": 22,
   "metadata": {},
   "outputs": [
    {
     "name": "stdout",
     "output_type": "stream",
     "text": [
      "******** model and XV **********\n",
      "Fold Accuracies: [0.93069307 0.88       0.9        0.83       0.87       0.89\n",
      " 0.82       0.83       0.85       0.85858586]\n",
      "XV Accuracy:  86.59%\n"
     ]
    }
   ],
   "source": [
    "import pandas as pd\n",
    "from sklearn.model_selection import cross_val_score\n",
    "import warnings\n",
    "from re import sub\n",
    "from nltk.stem import PorterStemmer\n",
    "\n",
    "# ignore warnings\n",
    "warnings.filterwarnings('ignore')\n",
    "\n",
    "# setup\n",
    "stemmer = PorterStemmer()\n",
    "\n",
    "df = pd.read_csv(\"fake_or_real_news.csv\")\n",
    "df = df[:1000]\n",
    "\n",
    "text = pd.DataFrame(df, columns=['text'])\n",
    "label = pd.DataFrame(df, columns=['label'])\n",
    "\n",
    "# prepare data\n",
    "new_data = []\n",
    "for i in range(text.shape[0]):\n",
    "    new_data.append(sub(\"[^a-zA-Z]\", \" \", text.iloc[i,0]))\n",
    "\n",
    "# setup vector model\n",
    "from sklearn.feature_extraction.text import CountVectorizer\n",
    "vectorizer = CountVectorizer(analyzer = \"word\", binary = True, min_df=2, stop_words='english')\n",
    "docarray = vectorizer.fit_transform(new_data).toarray()\n",
    "coords = vectorizer.get_feature_names()\n",
    "docterm = pandas.DataFrame(data=docarray,columns=coords)\n",
    "\n",
    "print(\"******** model and XV **********\")\n",
    "from sklearn.naive_bayes import MultinomialNB\n",
    "model = MultinomialNB()\n",
    "\n",
    "# do the 10-fold cross validation\n",
    "scores = cross_val_score(model, docarray, label, cv=10)\n",
    "print(\"Fold Accuracies: {}\".format(scores))\n",
    "print(\"XV Accuracy: {: 6.2f}%\".format(scores.mean()*100))"
   ]
  },
  {
   "cell_type": "markdown",
   "metadata": {},
   "source": [
    "## Extra Credit\n",
    "Below we run the same test while using the title as the training data."
   ]
  },
  {
   "cell_type": "code",
   "execution_count": 19,
   "metadata": {
    "scrolled": true
   },
   "outputs": [
    {
     "name": "stdout",
     "output_type": "stream",
     "text": [
      "******** model and XV **********\n",
      "Fold Accuracies: [0.81188119 0.76       0.73       0.77       0.72       0.69\n",
      " 0.82       0.81       0.77       0.82828283]\n",
      "XV Accuracy:  77.10%\n"
     ]
    }
   ],
   "source": [
    "import pandas as pd\n",
    "from sklearn.model_selection import cross_val_score\n",
    "import warnings\n",
    "from re import sub\n",
    "from nltk.stem import PorterStemmer\n",
    "\n",
    "# ignore warnings\n",
    "warnings.filterwarnings('ignore')\n",
    "\n",
    "# setup\n",
    "stemmer = PorterStemmer()\n",
    "\n",
    "df = pd.read_csv(\"fake_or_real_news.csv\")\n",
    "df = df[:1000]\n",
    "\n",
    "text = pd.DataFrame(df, columns=['title'])\n",
    "label = pd.DataFrame(df, columns=['label'])\n",
    "\n",
    "# prepare data\n",
    "new_data = []\n",
    "for i in range(text.shape[0]):\n",
    "    new_data.append(sub(\"[^a-zA-Z]\", \" \", text.iloc[i,0]))\n",
    "\n",
    "lowercase_data = []\n",
    "for i in range(len(new_data)):\n",
    "    lowercase_data.append(new_data[i].lower())\n",
    "\n",
    "stemmed_data = []\n",
    "for i in range(len(lowercase_data)):\n",
    "    words = lowercase_data[i].split()\n",
    "    stemmed_words = []\n",
    "    for w in words:\n",
    "        stemmed_words.append(stemmer.stem(w))\n",
    "    stemmed_data.append(\" \".join(stemmed_words))\n",
    "\n",
    "# setup vector model\n",
    "from sklearn.feature_extraction.text import CountVectorizer\n",
    "vectorizer = CountVectorizer(analyzer = \"word\", binary = True, min_df=2, stop_words='english')\n",
    "docarray = vectorizer.fit_transform(stemmed_data).toarray()\n",
    "coords = vectorizer.get_feature_names()\n",
    "docterm = pandas.DataFrame(data=docarray,columns=coords)\n",
    "\n",
    "print(\"******** model and XV **********\")\n",
    "from sklearn.naive_bayes import MultinomialNB\n",
    "model = MultinomialNB()\n",
    "\n",
    "# do the 10-fold cross validation\n",
    "scores = cross_val_score(model, docarray, label, cv=10)\n",
    "print(\"Fold Accuracies: {}\".format(scores))\n",
    "print(\"XV Accuracy: {: 6.2f}%\".format(scores.mean()*100))"
   ]
  },
  {
   "cell_type": "markdown",
   "metadata": {},
   "source": [
    "Above we see that, based on the title, the accuracy of the training set is much lower. This is predictable because there's less data to work with.\n",
    "\n",
    "## Teamwork\n",
    "Mikayla: 50%\n",
    "Ian: 50%"
   ]
  },
  {
   "cell_type": "code",
   "execution_count": 1,
   "metadata": {},
   "outputs": [
    {
     "ename": "NameError",
     "evalue": "name 'pd' is not defined",
     "output_type": "error",
     "traceback": [
      "\u001b[1;31m---------------------------------------------------------------------------\u001b[0m",
      "\u001b[1;31mNameError\u001b[0m                                 Traceback (most recent call last)",
      "\u001b[1;32m<ipython-input-1-b3db3afa106e>\u001b[0m in \u001b[0;36m<module>\u001b[1;34m\u001b[0m\n\u001b[0;32m      7\u001b[0m \u001b[0mresult\u001b[0m \u001b[1;33m=\u001b[0m \u001b[1;33m[\u001b[0m\u001b[1;36m1\u001b[0m\u001b[1;33m,\u001b[0m \u001b[1;36m2\u001b[0m\u001b[1;33m,\u001b[0m \u001b[1;36m3\u001b[0m\u001b[1;33m,\u001b[0m \u001b[1;36m1\u001b[0m\u001b[1;33m,\u001b[0m \u001b[1;36m2\u001b[0m\u001b[1;33m,\u001b[0m \u001b[1;36m1\u001b[0m\u001b[1;33m,\u001b[0m \u001b[1;36m1\u001b[0m\u001b[1;33m]\u001b[0m\u001b[1;33m\u001b[0m\u001b[1;33m\u001b[0m\u001b[0m\n\u001b[0;32m      8\u001b[0m \u001b[0mdata\u001b[0m \u001b[1;33m=\u001b[0m \u001b[1;33m{\u001b[0m\u001b[1;34m'sleep'\u001b[0m\u001b[1;33m:\u001b[0m\u001b[0msleep\u001b[0m\u001b[1;33m,\u001b[0m \u001b[1;34m'heartrate'\u001b[0m\u001b[1;33m:\u001b[0m\u001b[0mheartrate\u001b[0m\u001b[1;33m,\u001b[0m \u001b[1;34m'exercise'\u001b[0m\u001b[1;33m:\u001b[0m\u001b[0mexercise\u001b[0m\u001b[1;33m,\u001b[0m \u001b[1;34m'water'\u001b[0m\u001b[1;33m:\u001b[0m\u001b[0mwater\u001b[0m\u001b[1;33m,\u001b[0m \u001b[1;34m'anxiety'\u001b[0m\u001b[1;33m:\u001b[0m\u001b[0manxiety\u001b[0m\u001b[1;33m,\u001b[0m \u001b[1;34m'predicted_anx'\u001b[0m\u001b[1;33m:\u001b[0m\u001b[0mresult\u001b[0m\u001b[1;33m}\u001b[0m\u001b[1;33m\u001b[0m\u001b[1;33m\u001b[0m\u001b[0m\n\u001b[1;32m----> 9\u001b[1;33m \u001b[0mdf\u001b[0m \u001b[1;33m=\u001b[0m \u001b[0mpd\u001b[0m\u001b[1;33m.\u001b[0m\u001b[0mDataFrame\u001b[0m\u001b[1;33m(\u001b[0m\u001b[0mdata\u001b[0m\u001b[1;33m=\u001b[0m\u001b[0mdata\u001b[0m\u001b[1;33m)\u001b[0m\u001b[1;33m\u001b[0m\u001b[1;33m\u001b[0m\u001b[0m\n\u001b[0m\u001b[0;32m     10\u001b[0m \u001b[0mplot_weekanx\u001b[0m \u001b[1;33m=\u001b[0m \u001b[0mdf\u001b[0m\u001b[1;33m.\u001b[0m\u001b[0mloc\u001b[0m\u001b[1;33m[\u001b[0m\u001b[1;33m:\u001b[0m\u001b[1;33m,\u001b[0m\u001b[1;34m'predicted_anx'\u001b[0m\u001b[1;33m]\u001b[0m\u001b[1;33m.\u001b[0m\u001b[0mrename\u001b[0m\u001b[1;33m(\u001b[0m\u001b[1;34m'Weekly Anxiety'\u001b[0m\u001b[1;33m)\u001b[0m\u001b[1;33m\u001b[0m\u001b[1;33m\u001b[0m\u001b[0m\n\u001b[0;32m     11\u001b[0m \u001b[0mplot_weekanx\u001b[0m\u001b[1;33m.\u001b[0m\u001b[0mvalue_counts\u001b[0m\u001b[1;33m(\u001b[0m\u001b[1;33m)\u001b[0m\u001b[1;33m.\u001b[0m\u001b[0mplot\u001b[0m\u001b[1;33m.\u001b[0m\u001b[0mpie\u001b[0m\u001b[1;33m(\u001b[0m\u001b[1;33m)\u001b[0m\u001b[1;33m\u001b[0m\u001b[1;33m\u001b[0m\u001b[0m\n",
      "\u001b[1;31mNameError\u001b[0m: name 'pd' is not defined"
     ]
    }
   ],
   "source": [
    "    #df = userinput()\n",
    "    sleep = [1, 1, 2, 3, 1, 2, 3]\n",
    "    exercise = [2, 3, 1, 2, 1, 1, 2]\n",
    "    water = [3, 1, 2, 1, 3, 3, 2]\n",
    "    heartrate = [3,3,2,1,2,1,2]\n",
    "    anxiety = [2,1,3,2,1,2,2]\n",
    "    result = [1, 2, 3, 1, 2, 1, 1]\n",
    "    data = {'sleep':sleep, 'heartrate':heartrate, 'exercise':exercise, 'water':water, 'anxiety':anxiety, 'predicted_anx':result}\n",
    "    df = pd.DataFrame(data=data)\n",
    "    plot_weekanx = df.loc[:,'predicted_anx'].rename('Weekly Anxiety')\n",
    "    plot_weekanx.value_counts().plot.pie()\n",
    "    sns.pairplot(df, hue='predicted_anx', size=2)\n",
    "        \n",
    "    #Regression\n",
    "    x = df['sleep']\n",
    "    y = df['predicted_anx']\n",
    "    # pick model\n",
    "\n",
    "    model = DecisionTreeRegressor(max_depth=2)\n",
    "    model.fit(x, y)\n",
    "\n",
    "    # plot the model together with the data\n",
    "    xfit = pd.DataFrame([i for i in range(-1, 3)])\n",
    "    yfit = model.predict(xfit)\n",
    "    plt.scatter(x, y)\n",
    "    plt.plot(xfit, yfit)\n",
    "    plt.show()\n",
    "\n",
    "    # compute the R^2 score – good models: R^2 approx. 1\n",
    "    print(\"R^2 score: {}\".format(model.score(x,y)))"
   ]
  },
  {
   "cell_type": "code",
   "execution_count": null,
   "metadata": {},
   "outputs": [],
   "source": []
  }
 ],
 "metadata": {
  "kernelspec": {
   "display_name": "Python 3",
   "language": "python",
   "name": "python3"
  },
  "language_info": {
   "codemirror_mode": {
    "name": "ipython",
    "version": 3
   },
   "file_extension": ".py",
   "mimetype": "text/x-python",
   "name": "python",
   "nbconvert_exporter": "python",
   "pygments_lexer": "ipython3",
   "version": "3.7.1"
  }
 },
 "nbformat": 4,
 "nbformat_minor": 2
}
