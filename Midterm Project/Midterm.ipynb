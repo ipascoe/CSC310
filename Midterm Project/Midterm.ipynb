{
 "cells": [
  {
   "cell_type": "markdown",
   "metadata": {},
   "source": [
    "# Midterm Project\n",
    "###### By Ian Pascoe\n",
    "\n",
    "This project will combine all of the methods of data analysis that we have done in class thus far. This will include numerical analysis of the data, which is finding the mode, mean, minimum and maximum values. There will also be a section for visualizeing the data, using histograms for numerical columns and bar plots for categorical columns. These plots will be done in both seaborn and matplotlib to see the difference between them. Lastly, machine learning of the data set will be practiced by creating a decision tree that will produce predicted outcomes. These predicted outcomes will be compared to the actual result found in the original data frame. From there, I will restrict the accuracy of the model to find underlying trends in the data that have a heavier impact on the results."
   ]
  },
  {
   "cell_type": "code",
   "execution_count": 2,
   "metadata": {},
   "outputs": [],
   "source": [
    "# Import all the necessary modules for the project\n",
    "\n",
    "import pandas\n",
    "import numpy as np\n",
    "import matplotlib.pyplot as plot\n",
    "import collections as col\n",
    "%matplotlib inline\n",
    "import pandas as pd\n",
    "from sklearn import tree\n",
    "from treeviz import tree_print\n",
    "from sklearn.metrics import accuracy_score\n",
    "import seaborn as sns"
   ]
  },
  {
   "cell_type": "markdown",
   "metadata": {},
   "source": [
    "## Displaying the Dataframe"
   ]
  },
  {
   "cell_type": "code",
   "execution_count": 3,
   "metadata": {},
   "outputs": [
    {
     "data": {
      "text/html": [
       "<div>\n",
       "<style scoped>\n",
       "    .dataframe tbody tr th:only-of-type {\n",
       "        vertical-align: middle;\n",
       "    }\n",
       "\n",
       "    .dataframe tbody tr th {\n",
       "        vertical-align: top;\n",
       "    }\n",
       "\n",
       "    .dataframe thead th {\n",
       "        text-align: right;\n",
       "    }\n",
       "</style>\n",
       "<table border=\"1\" class=\"dataframe\">\n",
       "  <thead>\n",
       "    <tr style=\"text-align: right;\">\n",
       "      <th></th>\n",
       "      <th>Age</th>\n",
       "      <th>Delivery number</th>\n",
       "      <th>Delivery time</th>\n",
       "      <th>Blood of Pressure</th>\n",
       "      <th>Heart Problem</th>\n",
       "      <th>Caesarian</th>\n",
       "    </tr>\n",
       "  </thead>\n",
       "  <tbody>\n",
       "    <tr>\n",
       "      <th>0</th>\n",
       "      <td>22</td>\n",
       "      <td>1</td>\n",
       "      <td>0</td>\n",
       "      <td>2</td>\n",
       "      <td>0</td>\n",
       "      <td>False</td>\n",
       "    </tr>\n",
       "    <tr>\n",
       "      <th>1</th>\n",
       "      <td>26</td>\n",
       "      <td>2</td>\n",
       "      <td>0</td>\n",
       "      <td>1</td>\n",
       "      <td>0</td>\n",
       "      <td>True</td>\n",
       "    </tr>\n",
       "    <tr>\n",
       "      <th>2</th>\n",
       "      <td>26</td>\n",
       "      <td>2</td>\n",
       "      <td>1</td>\n",
       "      <td>1</td>\n",
       "      <td>0</td>\n",
       "      <td>False</td>\n",
       "    </tr>\n",
       "    <tr>\n",
       "      <th>3</th>\n",
       "      <td>28</td>\n",
       "      <td>1</td>\n",
       "      <td>0</td>\n",
       "      <td>2</td>\n",
       "      <td>0</td>\n",
       "      <td>False</td>\n",
       "    </tr>\n",
       "    <tr>\n",
       "      <th>4</th>\n",
       "      <td>22</td>\n",
       "      <td>2</td>\n",
       "      <td>0</td>\n",
       "      <td>1</td>\n",
       "      <td>0</td>\n",
       "      <td>True</td>\n",
       "    </tr>\n",
       "  </tbody>\n",
       "</table>\n",
       "</div>"
      ],
      "text/plain": [
       "   Age  Delivery number  Delivery time  Blood of Pressure  Heart Problem  \\\n",
       "0   22                1              0                  2              0   \n",
       "1   26                2              0                  1              0   \n",
       "2   26                2              1                  1              0   \n",
       "3   28                1              0                  2              0   \n",
       "4   22                2              0                  1              0   \n",
       "\n",
       "   Caesarian  \n",
       "0      False  \n",
       "1       True  \n",
       "2      False  \n",
       "3      False  \n",
       "4       True  "
      ]
     },
     "execution_count": 3,
     "metadata": {},
     "output_type": "execute_result"
    }
   ],
   "source": [
    "# Read from the csv file and display a sample\n",
    "caesar = pandas.read_csv('caesarian.csv')\n",
    "caesar.head()"
   ]
  },
  {
   "cell_type": "markdown",
   "metadata": {},
   "source": [
    "## Numerical Analysis of the Data\n",
    "### Finding the Number of Rows and Columns"
   ]
  },
  {
   "cell_type": "code",
   "execution_count": 4,
   "metadata": {},
   "outputs": [
    {
     "name": "stdout",
     "output_type": "stream",
     "text": [
      "How many rows there are: 78\n",
      "How many columns there are: 6\n"
     ]
    }
   ],
   "source": [
    "# Find the amount of rows and columns in the data set\n",
    "rows, cols = caesar.shape\n",
    "print(\"How many rows there are:\", rows)\n",
    "print(\"How many columns there are:\", cols)"
   ]
  },
  {
   "cell_type": "markdown",
   "metadata": {},
   "source": [
    "### Finding the Mode of Categorical Columns"
   ]
  },
  {
   "cell_type": "code",
   "execution_count": 5,
   "metadata": {},
   "outputs": [
    {
     "name": "stdout",
     "output_type": "stream",
     "text": [
      "Mode for column 'Delivery number':\n",
      " 0    1\n",
      "dtype: int64 \n",
      "\n",
      "Mode for column 'Delivery time':\n",
      " 0    0\n",
      "dtype: int64 \n",
      "\n",
      "Mode for column 'Blood of Pressure':\n",
      " 0    1\n",
      "dtype: int64 \n",
      "\n",
      "Mode for column 'Heart Problem':\n",
      " 0    0\n",
      "dtype: int64\n"
     ]
    }
   ],
   "source": [
    "# For the categorical columns, compute the mode\n",
    "\n",
    "# delivery # column\n",
    "dNumber_mode = caesar['Delivery number'].mode()\n",
    "print(\"Mode for column 'Delivery number':\\n\", dNumber_mode, '\\n')\n",
    "\n",
    "# delivery time column\n",
    "dTime_mode = caesar['Delivery time'].mode()\n",
    "print(\"Mode for column 'Delivery time':\\n\", dTime_mode, '\\n')\n",
    "\n",
    "# Blood of Pressure column\n",
    "BP_mode = caesar['Blood of Pressure'].mode()\n",
    "print(\"Mode for column 'Blood of Pressure':\\n\", BP_mode, '\\n')\n",
    "\n",
    "# heart problem column\n",
    "HP_mode = caesar['Heart Problem'].mode()\n",
    "print(\"Mode for column 'Heart Problem':\\n\", HP_mode)"
   ]
  },
  {
   "cell_type": "markdown",
   "metadata": {},
   "source": [
    "### Finding the Mean, Max & Min of Numerical Columns"
   ]
  },
  {
   "cell_type": "code",
   "execution_count": 8,
   "metadata": {},
   "outputs": [
    {
     "name": "stdout",
     "output_type": "stream",
     "text": [
      "Values for the 'Age' column:\n",
      "Mean age: 27.76923076923077\n",
      "Max age: 40\n",
      "Min age: 17\n"
     ]
    }
   ],
   "source": [
    "# For numerical columns find the max, min and mean\n",
    "\n",
    "# age column\n",
    "print(\"Values for the 'Age' column:\")\n",
    "age_mean = caesar['Age'].mean()\n",
    "age_max = caesar['Age'].max()\n",
    "age_min = caesar['Age'].min()\n",
    "print(\"Mean age:\", age_mean)\n",
    "print(\"Max age:\", age_max)\n",
    "print(\"Min age:\", age_min)"
   ]
  },
  {
   "cell_type": "markdown",
   "metadata": {},
   "source": [
    "As seen above there is one numerical column and three categorical columns."
   ]
  },
  {
   "cell_type": "markdown",
   "metadata": {},
   "source": [
    "## Plotting the Data with Matplotlib\n",
    "### Plotting Histograms of Some Numerical Columns"
   ]
  },
  {
   "cell_type": "code",
   "execution_count": 9,
   "metadata": {},
   "outputs": [
    {
     "data": {
      "image/png": "[encoded data removed]",
      "text/plain": [
       "<Figure size 3600x720 with 1 Axes>"
      ]
     },
     "metadata": {
      "needs_background": "light"
     },
     "output_type": "display_data"
    }
   ],
   "source": [
    "# Using notes from class, I plot all of the numerical plots on the same line using a for loop\n",
    "\n",
    "for i in range(1,3):\n",
    "    if (i == 1):\n",
    "        plot.subplot(1,3,i)\n",
    "        plot.title(caesar.columns[i-1])\n",
    "        plot.subplots_adjust(wspace=0.5, hspace=0.5)\n",
    "        caesar.iloc[:,i-1].value_counts().plot(kind='hist',figsize=(50,10))"
   ]
  },
  {
   "cell_type": "markdown",
   "metadata": {},
   "source": [
    "Above the histogram shows the distribution of the different ages. Matplotlib has an error while displaying the ages, this error is fixed when using seaborn later on.\n",
    "### Plotting Bar Graph for the Categorical Column"
   ]
  },
  {
   "cell_type": "code",
   "execution_count": 10,
   "metadata": {},
   "outputs": [
    {
     "data": {
      "image/png": "[encoded data removed]",
      "text/plain": [
       "<Figure size 3600x1440 with 3 Axes>"
      ]
     },
     "metadata": {
      "needs_background": "light"
     },
     "output_type": "display_data"
    }
   ],
   "source": [
    "# Using same method as before I plot the bar plots for the categorical columns\n",
    "\n",
    "for i in range(2,5):\n",
    "    if (i == 2 or i == 3 or i == 4):\n",
    "        plot.subplot(2,5,i)\n",
    "        plot.title(caesar.columns[i-1])\n",
    "        plot.subplots_adjust(wspace=1.5, hspace=0.5)\n",
    "        caesar.iloc[:,i-1].value_counts().plot(kind='bar',figsize=(50,20))"
   ]
  },
  {
   "cell_type": "markdown",
   "metadata": {},
   "source": [
    "Above we see the number of times each categorical data appears in the dataframe. Gives a good visual of the mode of each category.\n",
    "\n",
    "## Machine Learning Example"
   ]
  },
  {
   "cell_type": "code",
   "execution_count": 11,
   "metadata": {},
   "outputs": [
    {
     "data": {
      "text/html": [
       "<div>\n",
       "<style scoped>\n",
       "    .dataframe tbody tr th:only-of-type {\n",
       "        vertical-align: middle;\n",
       "    }\n",
       "\n",
       "    .dataframe tbody tr th {\n",
       "        vertical-align: top;\n",
       "    }\n",
       "\n",
       "    .dataframe thead th {\n",
       "        text-align: right;\n",
       "    }\n",
       "</style>\n",
       "<table border=\"1\" class=\"dataframe\">\n",
       "  <thead>\n",
       "    <tr style=\"text-align: right;\">\n",
       "      <th></th>\n",
       "      <th>Age</th>\n",
       "      <th>Delivery number</th>\n",
       "      <th>Delivery time</th>\n",
       "      <th>Blood of Pressure</th>\n",
       "      <th>Heart Problem</th>\n",
       "    </tr>\n",
       "  </thead>\n",
       "  <tbody>\n",
       "    <tr>\n",
       "      <th>0</th>\n",
       "      <td>22</td>\n",
       "      <td>1</td>\n",
       "      <td>0</td>\n",
       "      <td>2</td>\n",
       "      <td>0</td>\n",
       "    </tr>\n",
       "    <tr>\n",
       "      <th>1</th>\n",
       "      <td>26</td>\n",
       "      <td>2</td>\n",
       "      <td>0</td>\n",
       "      <td>1</td>\n",
       "      <td>0</td>\n",
       "    </tr>\n",
       "    <tr>\n",
       "      <th>2</th>\n",
       "      <td>26</td>\n",
       "      <td>2</td>\n",
       "      <td>1</td>\n",
       "      <td>1</td>\n",
       "      <td>0</td>\n",
       "    </tr>\n",
       "    <tr>\n",
       "      <th>3</th>\n",
       "      <td>28</td>\n",
       "      <td>1</td>\n",
       "      <td>0</td>\n",
       "      <td>2</td>\n",
       "      <td>0</td>\n",
       "    </tr>\n",
       "    <tr>\n",
       "      <th>4</th>\n",
       "      <td>22</td>\n",
       "      <td>2</td>\n",
       "      <td>0</td>\n",
       "      <td>1</td>\n",
       "      <td>0</td>\n",
       "    </tr>\n",
       "  </tbody>\n",
       "</table>\n",
       "</div>"
      ],
      "text/plain": [
       "   Age  Delivery number  Delivery time  Blood of Pressure  Heart Problem\n",
       "0   22                1              0                  2              0\n",
       "1   26                2              0                  1              0\n",
       "2   26                2              1                  1              0\n",
       "3   28                1              0                  2              0\n",
       "4   22                2              0                  1              0"
      ]
     },
     "execution_count": 11,
     "metadata": {},
     "output_type": "execute_result"
    }
   ],
   "source": [
    "# Extract the independent variables from the data set\n",
    "\n",
    "features_df = caesar.drop(['Caesarian'],axis=1)\n",
    "features_df.head()"
   ]
  },
  {
   "cell_type": "code",
   "execution_count": 12,
   "metadata": {},
   "outputs": [
    {
     "data": {
      "text/html": [
       "<div>\n",
       "<style scoped>\n",
       "    .dataframe tbody tr th:only-of-type {\n",
       "        vertical-align: middle;\n",
       "    }\n",
       "\n",
       "    .dataframe tbody tr th {\n",
       "        vertical-align: top;\n",
       "    }\n",
       "\n",
       "    .dataframe thead th {\n",
       "        text-align: right;\n",
       "    }\n",
       "</style>\n",
       "<table border=\"1\" class=\"dataframe\">\n",
       "  <thead>\n",
       "    <tr style=\"text-align: right;\">\n",
       "      <th></th>\n",
       "      <th>Caesarian</th>\n",
       "    </tr>\n",
       "  </thead>\n",
       "  <tbody>\n",
       "    <tr>\n",
       "      <th>0</th>\n",
       "      <td>False</td>\n",
       "    </tr>\n",
       "    <tr>\n",
       "      <th>1</th>\n",
       "      <td>True</td>\n",
       "    </tr>\n",
       "    <tr>\n",
       "      <th>2</th>\n",
       "      <td>False</td>\n",
       "    </tr>\n",
       "    <tr>\n",
       "      <th>3</th>\n",
       "      <td>False</td>\n",
       "    </tr>\n",
       "    <tr>\n",
       "      <th>4</th>\n",
       "      <td>True</td>\n",
       "    </tr>\n",
       "  </tbody>\n",
       "</table>\n",
       "</div>"
      ],
      "text/plain": [
       "   Caesarian\n",
       "0      False\n",
       "1       True\n",
       "2      False\n",
       "3      False\n",
       "4       True"
      ]
     },
     "execution_count": 12,
     "metadata": {},
     "output_type": "execute_result"
    }
   ],
   "source": [
    "# Extract the dependent variable\n",
    "\n",
    "target_df = pd.DataFrame(caesar['Caesarian'])\n",
    "target_df.head()"
   ]
  },
  {
   "cell_type": "code",
   "execution_count": 13,
   "metadata": {},
   "outputs": [
    {
     "data": {
      "text/plain": [
       "DecisionTreeClassifier(class_weight=None, criterion='entropy', max_depth=None,\n",
       "            max_features=None, max_leaf_nodes=None,\n",
       "            min_impurity_decrease=0.0, min_impurity_split=None,\n",
       "            min_samples_leaf=1, min_samples_split=2,\n",
       "            min_weight_fraction_leaf=0.0, presort=False, random_state=None,\n",
       "            splitter='best')"
      ]
     },
     "execution_count": 13,
     "metadata": {},
     "output_type": "execute_result"
    }
   ],
   "source": [
    "# Create the decision tree using sklearn\n",
    "\n",
    "dtree = tree.DecisionTreeClassifier(criterion='entropy')\n",
    "dtree.fit(features_df,target_df)"
   ]
  },
  {
   "cell_type": "code",
   "execution_count": 14,
   "metadata": {},
   "outputs": [
    {
     "name": "stdout",
     "output_type": "stream",
     "text": [
      "if Heart Problem =< 0.5: \n",
      "  |then if Age =< 21.5: \n",
      "  |  |then if Age =< 18.5: \n",
      "  |  |  |then if Blood of Pressure =< 0.5: \n",
      "  |  |  |  |then True\n",
      "  |  |  |  |else False\n",
      "  |  |  |else True\n",
      "  |  |else if Delivery number =< 2.5: \n",
      "  |  |  |then if Age =< 31.5: \n",
      "  |  |  |  |then if Age =< 29.5: \n",
      "  |  |  |  |  |then if Age =< 28.5: \n",
      "  |  |  |  |  |  |then if Age =< 27.5: \n",
      "  |  |  |  |  |  |  |then if Delivery time =< 0.5: \n",
      "  |  |  |  |  |  |  |  |then if Age =< 26.5: \n",
      "  |  |  |  |  |  |  |  |  |then if Delivery number =< 1.5: \n",
      "  |  |  |  |  |  |  |  |  |  |then if Blood of Pressure =< 0.5: \n",
      "  |  |  |  |  |  |  |  |  |  |  |then False\n",
      "  |  |  |  |  |  |  |  |  |  |  |else if Blood of Pressure =< 1.5: \n",
      "  |  |  |  |  |  |  |  |  |  |  |  |then if Age =< 23.5: \n",
      "  |  |  |  |  |  |  |  |  |  |  |  |  |then True\n",
      "  |  |  |  |  |  |  |  |  |  |  |  |  |else False\n",
      "  |  |  |  |  |  |  |  |  |  |  |  |else if Age =< 24.0: \n",
      "  |  |  |  |  |  |  |  |  |  |  |  |  |then False\n",
      "  |  |  |  |  |  |  |  |  |  |  |  |  |else True\n",
      "  |  |  |  |  |  |  |  |  |  |else if Age =< 23.5: \n",
      "  |  |  |  |  |  |  |  |  |  |  |then True\n",
      "  |  |  |  |  |  |  |  |  |  |  |else if Age =< 25.5: \n",
      "  |  |  |  |  |  |  |  |  |  |  |  |then False\n",
      "  |  |  |  |  |  |  |  |  |  |  |  |else True\n",
      "  |  |  |  |  |  |  |  |  |else False\n",
      "  |  |  |  |  |  |  |  |else if Age =< 25.5: \n",
      "  |  |  |  |  |  |  |  |  |then False\n",
      "  |  |  |  |  |  |  |  |  |else if Blood of Pressure =< 0.5: \n",
      "  |  |  |  |  |  |  |  |  |  |then False\n",
      "  |  |  |  |  |  |  |  |  |  |else if Delivery number =< 1.5: \n",
      "  |  |  |  |  |  |  |  |  |  |  |then if Age =< 26.5: \n",
      "  |  |  |  |  |  |  |  |  |  |  |  |then False\n",
      "  |  |  |  |  |  |  |  |  |  |  |  |else True\n",
      "  |  |  |  |  |  |  |  |  |  |  |else if Delivery time =< 1.5: \n",
      "  |  |  |  |  |  |  |  |  |  |  |  |then False\n",
      "  |  |  |  |  |  |  |  |  |  |  |  |else False\n",
      "  |  |  |  |  |  |  |else False\n",
      "  |  |  |  |  |  |else True\n",
      "  |  |  |  |  |else False\n",
      "  |  |  |  |else if Delivery number =< 1.5: \n",
      "  |  |  |  |  |then if Blood of Pressure =< 1.5: \n",
      "  |  |  |  |  |  |then if Age =< 34.0: \n",
      "  |  |  |  |  |  |  |then if Blood of Pressure =< 0.5: \n",
      "  |  |  |  |  |  |  |  |then True\n",
      "  |  |  |  |  |  |  |  |else False\n",
      "  |  |  |  |  |  |  |else False\n",
      "  |  |  |  |  |  |else True\n",
      "  |  |  |  |  |else True\n",
      "  |  |  |else if Delivery time =< 1.0: \n",
      "  |  |  |  |then True\n",
      "  |  |  |  |else False\n",
      "  |else if Blood of Pressure =< 0.5: \n",
      "  |  |then True\n",
      "  |  |else if Blood of Pressure =< 1.5: \n",
      "  |  |  |then if Age =< 26.5: \n",
      "  |  |  |  |then False\n",
      "  |  |  |  |else if Delivery time =< 1.0: \n",
      "  |  |  |  |  |then if Age =< 28.5: \n",
      "  |  |  |  |  |  |then True\n",
      "  |  |  |  |  |  |else if Age =< 34.5: \n",
      "  |  |  |  |  |  |  |then if Delivery number =< 2.5: \n",
      "  |  |  |  |  |  |  |  |then if Age =< 30.5: \n",
      "  |  |  |  |  |  |  |  |  |then False\n",
      "  |  |  |  |  |  |  |  |  |else True\n",
      "  |  |  |  |  |  |  |  |else False\n",
      "  |  |  |  |  |  |  |else True\n",
      "  |  |  |  |  |else False\n",
      "  |  |  |else if Delivery time =< 1.5: \n",
      "  |  |  |  |then True\n",
      "  |  |  |  |else if Age =< 34.5: \n",
      "  |  |  |  |  |then False\n",
      "  |  |  |  |  |else True\n",
      "<------------------------------------->\n",
      "Tree Depth:  13\n"
     ]
    }
   ],
   "source": [
    "# Visualize the tree using treeviz.py\n",
    "\n",
    "tree_print(dtree,features_df)"
   ]
  },
  {
   "cell_type": "code",
   "execution_count": 15,
   "metadata": {},
   "outputs": [
    {
     "data": {
      "text/html": [
       "<div>\n",
       "<style scoped>\n",
       "    .dataframe tbody tr th:only-of-type {\n",
       "        vertical-align: middle;\n",
       "    }\n",
       "\n",
       "    .dataframe tbody tr th {\n",
       "        vertical-align: top;\n",
       "    }\n",
       "\n",
       "    .dataframe thead th {\n",
       "        text-align: right;\n",
       "    }\n",
       "</style>\n",
       "<table border=\"1\" class=\"dataframe\">\n",
       "  <thead>\n",
       "    <tr style=\"text-align: right;\">\n",
       "      <th></th>\n",
       "      <th>Caesarian</th>\n",
       "    </tr>\n",
       "  </thead>\n",
       "  <tbody>\n",
       "    <tr>\n",
       "      <th>0</th>\n",
       "      <td>False</td>\n",
       "    </tr>\n",
       "    <tr>\n",
       "      <th>1</th>\n",
       "      <td>True</td>\n",
       "    </tr>\n",
       "    <tr>\n",
       "      <th>2</th>\n",
       "      <td>False</td>\n",
       "    </tr>\n",
       "    <tr>\n",
       "      <th>3</th>\n",
       "      <td>False</td>\n",
       "    </tr>\n",
       "    <tr>\n",
       "      <th>4</th>\n",
       "      <td>True</td>\n",
       "    </tr>\n",
       "  </tbody>\n",
       "</table>\n",
       "</div>"
      ],
      "text/plain": [
       "   Caesarian\n",
       "0      False\n",
       "1       True\n",
       "2      False\n",
       "3      False\n",
       "4       True"
      ]
     },
     "execution_count": 15,
     "metadata": {},
     "output_type": "execute_result"
    }
   ],
   "source": [
    "# Produce the predicted outcome array and turn it into a dataframe\n",
    "# View the head\n",
    "\n",
    "predict_array = dtree.predict(features_df)\n",
    "predicted_labels = pd.DataFrame(predict_array)\n",
    "predicted_labels.columns = ['Caesarian']\n",
    "predicted_labels.head()"
   ]
  },
  {
   "cell_type": "code",
   "execution_count": 16,
   "metadata": {},
   "outputs": [
    {
     "data": {
      "text/plain": [
       "False"
      ]
     },
     "execution_count": 16,
     "metadata": {},
     "output_type": "execute_result"
    }
   ],
   "source": [
    "# See if outcome is exact\n",
    "\n",
    "predicted_labels.equals(target_df)"
   ]
  },
  {
   "cell_type": "code",
   "execution_count": 17,
   "metadata": {},
   "outputs": [
    {
     "name": "stdout",
     "output_type": "stream",
     "text": [
      "Model accuracy is 0.9615384615384616\n"
     ]
    }
   ],
   "source": [
    "# Since it is not exact, we test the accuracy score\n",
    "\n",
    "print(\"Model accuracy is {}\".format(accuracy_score(target_df, predicted_labels)))"
   ]
  },
  {
   "cell_type": "markdown",
   "metadata": {},
   "source": [
    "Using the best decision tree possible, the prediction is only ~96% accurate. This is very accurate but means that there will still be errors ~4% of the time. The highest branches of the tree are the key attributes that are more important to the outcomes. Here we see age is a key contributer to the predictions.\n",
    "\n",
    "## Displaying Data Using Seaborn\n",
    "### Distribution Plots"
   ]
  },
  {
   "cell_type": "code",
   "execution_count": 18,
   "metadata": {},
   "outputs": [
    {
     "name": "stderr",
     "output_type": "stream",
     "text": [
      "C:\\Users\\Ian Pascoe\\Anaconda3\\lib\\site-packages\\scipy\\stats\\stats.py:1713: FutureWarning: Using a non-tuple sequence for multidimensional indexing is deprecated; use `arr[tuple(seq)]` instead of `arr[seq]`. In the future this will be interpreted as an array index, `arr[np.array(seq)]`, which will result either in an error or a different result.\n",
      "  return np.add.reduce(sorted[indexer] * weights, axis=axis) / sumval\n"
     ]
    },
    {
     "data": {
      "text/plain": [
       "<matplotlib.axes._subplots.AxesSubplot at 0x254038cc208>"
      ]
     },
     "execution_count": 18,
     "metadata": {},
     "output_type": "execute_result"
    },
    {
     "data": {
      "image/png": "[encoded data removed]",
      "text/plain": [
       "<Figure size 432x288 with 1 Axes>"
      ]
     },
     "metadata": {},
     "output_type": "display_data"
    }
   ],
   "source": [
    "# Set seaborn and compute the distrubution plot\n",
    "# since there is only one numerical column, there is one plot.\n",
    "\n",
    "sns.set()\n",
    "sns.distplot(caesar.loc[:,'Age'], hist=True, kde=True, bins= 5)"
   ]
  },
  {
   "cell_type": "markdown",
   "metadata": {},
   "source": [
    "### Bar Plots"
   ]
  },
  {
   "cell_type": "code",
   "execution_count": 19,
   "metadata": {},
   "outputs": [
    {
     "data": {
      "text/plain": [
       "<matplotlib.axes._subplots.AxesSubplot at 0x25404228c88>"
      ]
     },
     "execution_count": 19,
     "metadata": {},
     "output_type": "execute_result"
    },
    {
     "data": {
      "image/png": "[encoded data removed]",
      "text/plain": [
       "<Figure size 432x288 with 1 Axes>"
      ]
     },
     "metadata": {},
     "output_type": "display_data"
    }
   ],
   "source": [
    "# Compute bar plots for all of the categorical columns\n",
    "\n",
    "sns.countplot(caesar.loc[:,'Delivery number'])"
   ]
  },
  {
   "cell_type": "code",
   "execution_count": 20,
   "metadata": {},
   "outputs": [
    {
     "data": {
      "text/plain": [
       "<matplotlib.axes._subplots.AxesSubplot at 0x254038cc668>"
      ]
     },
     "execution_count": 20,
     "metadata": {},
     "output_type": "execute_result"
    },
    {
     "data": {
      "image/png": "[encoded data removed]",
      "text/plain": [
       "<Figure size 432x288 with 1 Axes>"
      ]
     },
     "metadata": {},
     "output_type": "display_data"
    }
   ],
   "source": [
    "sns.countplot(caesar.loc[:,'Delivery time'])"
   ]
  },
  {
   "cell_type": "code",
   "execution_count": 21,
   "metadata": {},
   "outputs": [
    {
     "data": {
      "text/plain": [
       "<matplotlib.axes._subplots.AxesSubplot at 0x25403836710>"
      ]
     },
     "execution_count": 21,
     "metadata": {},
     "output_type": "execute_result"
    },
    {
     "data": {
      "image/png": "[encoded data removed]",
      "text/plain": [
       "<Figure size 432x288 with 1 Axes>"
      ]
     },
     "metadata": {},
     "output_type": "display_data"
    }
   ],
   "source": [
    "sns.countplot(caesar.loc[:,'Blood of Pressure'])"
   ]
  },
  {
   "cell_type": "code",
   "execution_count": 22,
   "metadata": {},
   "outputs": [
    {
     "data": {
      "text/plain": [
       "<matplotlib.axes._subplots.AxesSubplot at 0x254037ea5f8>"
      ]
     },
     "execution_count": 22,
     "metadata": {},
     "output_type": "execute_result"
    },
    {
     "data": {
      "image/png": "[encoded data removed]",
      "text/plain": [
       "<Figure size 432x288 with 1 Axes>"
      ]
     },
     "metadata": {},
     "output_type": "display_data"
    }
   ],
   "source": [
    "sns.countplot(caesar.loc[:,'Heart Problem'])"
   ]
  },
  {
   "cell_type": "markdown",
   "metadata": {},
   "source": [
    "### Pair Plot"
   ]
  },
  {
   "cell_type": "code",
   "execution_count": 23,
   "metadata": {},
   "outputs": [
    {
     "name": "stderr",
     "output_type": "stream",
     "text": [
      "C:\\Users\\Ian Pascoe\\Anaconda3\\lib\\site-packages\\statsmodels\\nonparametric\\kde.py:488: RuntimeWarning: invalid value encountered in true_divide\n",
      "  binned = fast_linbin(X, a, b, gridsize) / (delta * nobs)\n",
      "C:\\Users\\Ian Pascoe\\Anaconda3\\lib\\site-packages\\statsmodels\\nonparametric\\kdetools.py:34: RuntimeWarning: invalid value encountered in double_scalars\n",
      "  FAC1 = 2*(np.pi*bw/RANGE)**2\n",
      "C:\\Users\\Ian Pascoe\\Anaconda3\\lib\\site-packages\\numpy\\core\\fromnumeric.py:83: RuntimeWarning: invalid value encountered in reduce\n",
      "  return ufunc.reduce(obj, axis, dtype, out, **passkwargs)\n"
     ]
    },
    {
     "data": {
      "text/plain": [
       "<seaborn.axisgrid.PairGrid at 0x2540375f780>"
      ]
     },
     "execution_count": 23,
     "metadata": {},
     "output_type": "execute_result"
    },
    {
     "data": {
      "image/png": "[encoded data removed]",
      "text/plain": [
       "<Figure size 930.35x864 with 42 Axes>"
      ]
     },
     "metadata": {},
     "output_type": "display_data"
    }
   ],
   "source": [
    "# Plot a pair plot to view the relationship between variables\n",
    "\n",
    "sns.pairplot(caesar, hue='Caesarian', height=2)"
   ]
  },
  {
   "cell_type": "markdown",
   "metadata": {},
   "source": [
    "## Restricting Tree Depth Effecting Model Accuracy"
   ]
  },
  {
   "cell_type": "code",
   "execution_count": 24,
   "metadata": {},
   "outputs": [
    {
     "data": {
      "text/plain": [
       "DecisionTreeClassifier(class_weight=None, criterion='entropy', max_depth=6,\n",
       "            max_features=None, max_leaf_nodes=None,\n",
       "            min_impurity_decrease=0.0, min_impurity_split=None,\n",
       "            min_samples_leaf=1, min_samples_split=2,\n",
       "            min_weight_fraction_leaf=0.0, presort=False, random_state=None,\n",
       "            splitter='best')"
      ]
     },
     "execution_count": 24,
     "metadata": {},
     "output_type": "execute_result"
    }
   ],
   "source": [
    "dtree2 = tree.DecisionTreeClassifier(criterion='entropy', max_depth=6)\n",
    "dtree2.fit(features_df,target_df)"
   ]
  },
  {
   "cell_type": "code",
   "execution_count": 25,
   "metadata": {},
   "outputs": [
    {
     "name": "stdout",
     "output_type": "stream",
     "text": [
      "if Heart Problem =< 0.5: \n",
      "  |then if Age =< 21.5: \n",
      "  |  |then if Age =< 18.5: \n",
      "  |  |  |then if Age =< 17.5: \n",
      "  |  |  |  |then True\n",
      "  |  |  |  |else False\n",
      "  |  |  |else True\n",
      "  |  |else if Delivery number =< 2.5: \n",
      "  |  |  |then if Age =< 31.5: \n",
      "  |  |  |  |then if Age =< 29.5: \n",
      "  |  |  |  |  |then if Age =< 28.5: \n",
      "  |  |  |  |  |  |then False\n",
      "  |  |  |  |  |  |else True\n",
      "  |  |  |  |  |else False\n",
      "  |  |  |  |else if Delivery number =< 1.5: \n",
      "  |  |  |  |  |then if Blood of Pressure =< 1.5: \n",
      "  |  |  |  |  |  |then False\n",
      "  |  |  |  |  |  |else True\n",
      "  |  |  |  |  |else True\n",
      "  |  |  |else if Delivery time =< 1.0: \n",
      "  |  |  |  |then True\n",
      "  |  |  |  |else False\n",
      "  |else if Blood of Pressure =< 0.5: \n",
      "  |  |then True\n",
      "  |  |else if Blood of Pressure =< 1.5: \n",
      "  |  |  |then if Age =< 26.5: \n",
      "  |  |  |  |then False\n",
      "  |  |  |  |else if Delivery time =< 1.0: \n",
      "  |  |  |  |  |then if Age =< 28.5: \n",
      "  |  |  |  |  |  |then True\n",
      "  |  |  |  |  |  |else True\n",
      "  |  |  |  |  |else False\n",
      "  |  |  |else if Delivery time =< 1.5: \n",
      "  |  |  |  |then True\n",
      "  |  |  |  |else if Age =< 34.5: \n",
      "  |  |  |  |  |then False\n",
      "  |  |  |  |  |else True\n",
      "<---------------->\n",
      "Tree Depth:  6\n"
     ]
    }
   ],
   "source": [
    "tree_print(dtree2,features_df)"
   ]
  },
  {
   "cell_type": "code",
   "execution_count": 26,
   "metadata": {},
   "outputs": [
    {
     "data": {
      "text/html": [
       "<div>\n",
       "<style scoped>\n",
       "    .dataframe tbody tr th:only-of-type {\n",
       "        vertical-align: middle;\n",
       "    }\n",
       "\n",
       "    .dataframe tbody tr th {\n",
       "        vertical-align: top;\n",
       "    }\n",
       "\n",
       "    .dataframe thead th {\n",
       "        text-align: right;\n",
       "    }\n",
       "</style>\n",
       "<table border=\"1\" class=\"dataframe\">\n",
       "  <thead>\n",
       "    <tr style=\"text-align: right;\">\n",
       "      <th></th>\n",
       "      <th>Caesarian</th>\n",
       "    </tr>\n",
       "  </thead>\n",
       "  <tbody>\n",
       "    <tr>\n",
       "      <th>0</th>\n",
       "      <td>False</td>\n",
       "    </tr>\n",
       "    <tr>\n",
       "      <th>1</th>\n",
       "      <td>False</td>\n",
       "    </tr>\n",
       "    <tr>\n",
       "      <th>2</th>\n",
       "      <td>False</td>\n",
       "    </tr>\n",
       "    <tr>\n",
       "      <th>3</th>\n",
       "      <td>False</td>\n",
       "    </tr>\n",
       "    <tr>\n",
       "      <th>4</th>\n",
       "      <td>False</td>\n",
       "    </tr>\n",
       "  </tbody>\n",
       "</table>\n",
       "</div>"
      ],
      "text/plain": [
       "   Caesarian\n",
       "0      False\n",
       "1      False\n",
       "2      False\n",
       "3      False\n",
       "4      False"
      ]
     },
     "execution_count": 26,
     "metadata": {},
     "output_type": "execute_result"
    }
   ],
   "source": [
    "predict_array2 = dtree2.predict(features_df)\n",
    "predicted_labels2 = pd.DataFrame(predict_array2)\n",
    "predicted_labels2.columns = ['Caesarian']\n",
    "predicted_labels2.head()"
   ]
  },
  {
   "cell_type": "code",
   "execution_count": 27,
   "metadata": {},
   "outputs": [
    {
     "name": "stdout",
     "output_type": "stream",
     "text": [
      "Model accuracy is 0.8717948717948718\n"
     ]
    }
   ],
   "source": [
    "print(\"Model accuracy is {}\".format(accuracy_score(target_df, predicted_labels2)))"
   ]
  },
  {
   "cell_type": "markdown",
   "metadata": {},
   "source": [
    "As we see, when restricting the decision tree to only a depth of 6, the model accuracy decreases by almost 10%. Yet, we see that the highest level branches stay the same. Here we see that Age, Blood of Pressure and Delivery time are the 3 key attributes that drive the predictions."
   ]
  },
  {
   "cell_type": "code",
   "execution_count": null,
   "metadata": {},
   "outputs": [],
   "source": []
  }
 ],
 "metadata": {
  "kernelspec": {
   "display_name": "Python 3",
   "language": "python",
   "name": "python3"
  },
  "language_info": {
   "codemirror_mode": {
    "name": "ipython",
    "version": 3
   },
   "file_extension": ".py",
   "mimetype": "text/x-python",
   "name": "python",
   "nbconvert_exporter": "python",
   "pygments_lexer": "ipython3",
   "version": "3.7.1"
  }
 },
 "nbformat": 4,
 "nbformat_minor": 2
}
